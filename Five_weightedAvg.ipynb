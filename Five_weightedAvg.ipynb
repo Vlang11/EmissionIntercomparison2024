{
 "cells": [
  {
   "cell_type": "code",
   "execution_count": null,
   "id": "5230031b",
   "metadata": {},
   "outputs": [],
   "source": [
    "# Load libraries\n",
    "import pandas as pd\n",
    "import numpy as np\n",
    "import xarray as xr"
   ]
  },
  {
   "cell_type": "code",
   "execution_count": null,
   "id": "3f35677d",
   "metadata": {},
   "outputs": [],
   "source": [
    "# FIVE Data from https://csl.noaa.gov/groups/csl7/measurements/2020covid-aqs/emissions/\n",
    "# Load in gas and diesel sat, sun, and weekday avgs\n",
    "five_gas_sat = xr.open_dataset('C:/Users/x12la/Desktop/Scripts/FIVE/FIVE_gas_onroad_satdy_avg.nc')\n",
    "five_gas_sun = xr.open_dataset('C:/Users/x12la/Desktop/Scripts/FIVE/FIVE_gas_onroad_sundy_avg.nc')\n",
    "five_gas_week = xr.open_dataset('C:/Users/x12la/Desktop/Scripts/FIVE/FIVE_gas_onroad_weekdy_avg.nc')\n",
    "\n",
    "five_dsl_sat = xr.open_dataset('C:/Users/x12la/Desktop/Scripts/FIVE/FIVE_dsl_onroad_satdy_avg.nc')\n",
    "five_dsl_sun = xr.open_dataset('C:/Users/x12la/Desktop/Scripts/FIVE/FIVE_dsl_onroad_sundy_avg.nc')\n",
    "five_dsl_week = xr.open_dataset('C:/Users/x12la/Desktop/Scripts/FIVE/FIVE_dsl_onroad_weekdy_avg.nc')\n"
   ]
  },
  {
   "cell_type": "code",
   "execution_count": null,
   "id": "82ca2f65",
   "metadata": {},
   "outputs": [],
   "source": [
    "# Calc weighted average using (1/7) weight on sat and sun, then 5/7 weight for weekdays \n",
    "# convert absolute emissions to flux by dividing by 4 km ^ 2 (16km^2)\n",
    "# then find total weighted avg emissions for gas + dsl = total \n",
    "\n",
    "five_gas_week['AllGasNOX']= five_gas_sat.NOX*(1/7) + five_gas_sun.NOX*(1/7) + five_gas_week.NOX*(5/7)\n",
    "five_dsl_week['AlldslNOX']= five_dsl_sat.NOX*(1/7) + five_dsl_sun.NOX*(1/7) + five_dsl_week.NOX*(5/7)\n",
    "five_gas_week['All_NOX']= (five_gas_week['AllGasNOX'] + five_dsl_week['AlldslNOX'])/16\n",
    "\n",
    "five_gas_week['AllGasPM25']= five_gas_sat['PM25-PRI']*(1/7) + five_gas_sun['PM25-PRI']*(1/7) + five_gas_week['PM25-PRI']*(5/7)\n",
    "five_dsl_week['AlldslPM25']= five_dsl_sat['PM25-PRI']*(1/7) + five_dsl_sun['PM25-PRI']*(1/7) + five_dsl_week['PM25-PRI']*(5/7)\n",
    "five_gas_week['All_PM25'] = (five_gas_week['AllGasPM25'] + five_dsl_week['AlldslPM25'])/16\n",
    "\n",
    "five_gas_week['AllGasPM10']= five_gas_sat['PM10-PRI']*(1/7) + five_gas_sun['PM10-PRI']*(1/7) + five_gas_week['PM10-PRI']*(5/7)\n",
    "five_dsl_week['AlldslPM10']= five_dsl_sat['PM10-PRI']*(1/7) + five_dsl_sun['PM10-PRI']*(1/7) + five_dsl_week['PM10-PRI']*(5/7)\n",
    "five_gas_week['All_PM10'] = (five_gas_week['AllGasPM10'] + five_dsl_week['AlldslPM10'])/16\n",
    "\n",
    "five_gas_week.to_netcdf('FIVE_WeightedAvg2018.nc')"
   ]
  },
  {
   "cell_type": "code",
   "execution_count": null,
   "id": "9f37c296",
   "metadata": {},
   "outputs": [],
   "source": []
  }
 ],
 "metadata": {
  "kernelspec": {
   "display_name": "Python 3 (ipykernel)",
   "language": "python",
   "name": "python3"
  },
  "language_info": {
   "codemirror_mode": {
    "name": "ipython",
    "version": 3
   },
   "file_extension": ".py",
   "mimetype": "text/x-python",
   "name": "python",
   "nbconvert_exporter": "python",
   "pygments_lexer": "ipython3",
   "version": "3.10.10"
  }
 },
 "nbformat": 4,
 "nbformat_minor": 5
}
